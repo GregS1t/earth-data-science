{
 "cells": [
  {
   "cell_type": "markdown",
   "metadata": {},
   "source": [
    "# Le Teil earthquake epicenter location likelihood\n",
    "\n",
    "<img src=\"images/logo-epos.png\" style=\"margin:10px; height:80px;\"/><img src=\"images/logo-esa.png\" style=\"margin:10px; height:100px;\"/><img src=\"images/logo-ipgp-upc.png\" style=\"margin:10px; height:80px;\"/>\n",
    "\n",
    "The original version of this notebook was made by Antoine Lucas and Gregory Sainton. The current notebook was edited in 2023 by Leonard Seydoux (seydoux@ipgp.fr) to be used in the course _Earth Data Science_ at the [Institut de Physique du Globe de Paris](https://www.ipgp.fr/fr) (IPGP). If you have found a bug or have a suggestion, please feel free to contact me.\n",
    "\n",
    "## 1. Introduction\n",
    "\n",
    "On November 11, 2019, a Mw 4.9 earthquake occured in the south of France, near the city of Le Teil. In this notebook, we will use the seismic data recorded by the RESIF network to estimate the epicenter location by a simple Monte Carlo method.\n",
    "\n",
    "This notebook is based on the example of _estimation of an epicenter: direct use of the probabilistic method_ made by Albert Tarantola, from the book _Inverse Problem Theory and Methods for Model Parameter Estimation_ (SIAM, 2005), pp. 253-256. We will use seven stations from the [French part of the European Plate Observing System (EPOS)](https://www.epos-france.fr/) and explore some parameters of the problem. We will also use the InSAR data from the Sentinel-1 satellite a a prior information to constrain the epicenter location. The production of the InSAR displacement map (available in the `data` repository) was made by Antoine Lucas using SNAP."
   ]
  },
  {
   "cell_type": "code",
   "execution_count": 2,
   "metadata": {},
   "outputs": [],
   "source": [
    "import os \n",
    "\n",
    "import matplotlib.pyplot as plt\n",
    "import numpy as np\n",
    "import obspy\n",
    "from obspy.clients.fdsn import Client\n",
    "\n",
    "import solver"
   ]
  },
  {
   "cell_type": "markdown",
   "metadata": {},
   "source": [
    "## 1. Introduction\n",
    "\n",
    "### 1.1. Inverse problem theory\n",
    "\n",
    "Introducing to the topic of probabilistic methods, Albert Tarantola wrote in his book [Inverse Problem Theory](https://www.ipgp.fr/~tarantola/Files/Professional/Books/InverseProblemTheory.pdf), edited by Siam in 2005 (slightly modifified from p.20).\n",
    "\n",
    "Experiments suggest physical theories, and physical theories predict the outcome of experiments. The comparision of the predicted outcome with the observed outcome allows us to improve the theory. If in the _physical theory_ we include the physical parameters describing the system under study, then inverse problem theory is about the quantitative rules to be used for this comparison between predictions and observations.\n",
    "\n",
    "To solve a _forward problem_ means to predict the error-free values of the observables $\\mathbf{d} = (d_1, d_2, \\ldots)$ that would correspond to a given model $\\mathbf{m} = (m_1, m_2, \\dots)$. It can be formally written in the form\n",
    "\n",
    "$$\\mathbf{m} \\mapsto \\mathbf{d} = \\mathbf{g}(\\mathbf{m}),$$\n",
    "\n",
    "where $\\mathbf{d} = \\mathbf{g}(\\mathbf{m})$ is a short notation for the set of equations $d_i = g_i(\\mathbf{m})$, and $\\mathbf{g}$ is the _forward operator_ that contains the mathematical model of the physical system under study. It is usually a nonlinear operator, and it is often ill-posed. "
   ]
  },
  {
   "cell_type": "markdown",
   "metadata": {},
   "source": [
    "\n",
    "### 1.2. Earthquake epicenter location problem\n",
    "\n",
    "In the problem of earthaquake epicenter likelihood estimation, the model parameters $\\bf m$ are the coordinates (the latitude $\\lambda$ and longitude $\\varphi$) of the epicenter, simplified here in two dimensions:\n",
    "\n",
    "$$\\mathbf{m} = (\\lambda, \\varphi) \\in \\mathbb{R}^2.$$\n",
    "\n",
    "The data parameters $\\bf d$ can be the arrival times of the seismic waves at the $N$ seismic stations that can be written as\n",
    "\n",
    "$$\\mathbf{d} = (t_1, \\ldots, t_N) \\in \\mathbb{R}^N.$$\n",
    "\n",
    "Note that the arrival times can be noisy due to several reasons (the noise in the data, picking accuracy). If the speed of the seismic waves in the medium between the source and the sensors is known, it is possible to predict, thanks to a given physical model, the arrival times of the seismic waves $\\hat{\\mathbf{d}}$ at the stations for a given epicenter location. In other terms, we can then apply the forward problem\n",
    "\n",
    "$$\\hat{\\mathbf{d}} = \\mathbf{g}(\\mathbf{m}).$$\n",
    "\n",
    "The forward operator $G$ is the travel time model that predicts the travel times $t_i$ for a given epicenter location $m$, and it is based on the knowledge of the velocity model of the medium. In this notebook, we will use a simple velocity model that does not depend on space, that is, the forward operator is linear and only depends on the distance between the epicenter and the station. \n",
    "\n",
    "> __Question 1.__ Give the form of the forward operator $G$ for a linear velocity model, noting $v$ the space-independent velocity of the _P_ wave in the medium. What are the assumptions made in this model?\n",
    "> \n",
    "> __Answer 1.__ The coordinates of the seismic stations and the velocity of the _P_ wave are assumed which means that the velocities uncertainties are supposed to be negligible in comparison with the uncertainties of the observed arrival times. For a source located at the position $\\mathbf{m} = (\\lambda, \\varphi)$, the predicted arrival times $\\hat{t}_i$ of the seismic wave recorded at station $i$ located at $(\\lambda_i, \\varphi_i)$ are predicted by the forward model $g_i$ as\n",
    "> \n",
    "> $$ \\hat{t}_i = g_i(\\mathbf{m}) = \\frac{1}{v}\\delta(\\lambda, \\varphi, \\lambda_i, \\varphi_i),$$\n",
    ">\n",
    "> where $\\delta$ is the great-circle distance between the source and the station."
   ]
  },
  {
   "cell_type": "markdown",
   "metadata": {},
   "source": [
    "### 1.3. Probabilistic inversion\n",
    "\n",
    "From the lecture, we know that the _posterior_ information $\\sigma(\\mathbf{m})$ is a combination of all informations we have which can be expressed as \n",
    "\n",
    "$$\\sigma(\\mathbf{m}) = k \\rho(\\mathbf{m}) L(\\mathbf{m})$$\n",
    "\n",
    "where $k$ is a normalization constant, $\\rho(\\mathbf{m})$ is the _a priori_ in the model space, and $L(\\mathbf{m})$ is the likelihood function which gives a measure of the agreement between the observed data and the predicted data, in other terms, on how good the model $\\mathbf{m}$ fits the data $\\mathbf{d}$. If we consider the uncertainties to be Gaussian with a standard deviation $\\nu$, the likelihood function $L(\\mathbf{m})$ is expressed as:\n",
    "\n",
    "$$L(\\mathbf{m}) = k' \\exp\\left( -\\frac{1}{2} \\sum\\limits_{i=1}^{n} \\left(\\frac{t_{i}-g_i(\\mathbf{m})}{\\nu}\\right)^2 \\right)$$\n",
    "\n",
    "where $k'$ is a normalization constant. Injecting the likelihood function into the posterior information, we obtain\n",
    "\n",
    "$$\n",
    "\\sigma(\\mathbf{m}) = kk' \\rho(\\mathbf{m}) \\exp\\left( -\\frac{1}{2} \\sum_{i=1}^{n} \\left(\\frac{t_{i}-g_i(\\mathbf{m})}{\\nu}\\right)^2\\right)\n",
    "$$\n",
    "\n",
    "For now, we can take the a priori information $\\rho(\\mathbf{m})$ as a constant, since we do not have yet a priori information about the epicenter location. We will come back to this point later. The posterior information $\\sigma(\\mathbf{m})$ is then proportional to the likelihood function $L(\\mathbf{m})$, which means that the maximum of the posterior information is also the maximum of the likelihood function. We can then maximize the likelihood function to find the epicenter location, denoted $m^*$, that best fits the data. The maximum of the likelihood function is obtained by maximizing the following function:\n",
    "\n",
    "$$\n",
    "\\mathbf{m}^* = (\\lambda^*, \\varphi^*) = \\arg\\max\\limits_{\\mathbf{m}}\\, \\exp\\left(-\\frac{1}{2} \\sum\\limits_{i=1}^{n} \\left(\\frac{t_{i}-g_i(\\mathbf{m})}{\\nu}\\right)^2\\right).\n",
    "$$\n",
    "\n",
    "> __Question 2.__ What is the difference between the maximum of the posterior information and the maximum of the likelihood function? How would the expression of the posterior information change if we had a priori information about the epicenter location?\n",
    "> \n",
    "> __Answer 2.__ The maximum of the posterior information is the maximum of the likelihood function multiplied by the a priori information. If we had a priori information about the epicenter location, we would have to multiply the likelihood function by the a priori information, which would change the expression of the posterior information."
   ]
  },
  {
   "cell_type": "markdown",
   "metadata": {},
   "source": [
    "## 2. Reading and preparing the data\n",
    "\n",
    "### 2.1. Get event information from EPOS-France\n",
    "\n",
    "Of course when inferring an earthquake epicenter, you have a bare idea of the event's location and time. Here we use the exact information provided by the BRGM (Bureau de Recherches Géologiques et Minières) that is available on the [website of EPOS-France](https://www.epos-france.fr/blog/2021/01/19/reponse-rapide-de-la-communaute-resif-au-tremblement-de-terre-mw-4-9-du-11-novembre-2019-au-teil/). We will then fetch the event information from the EPOS-France web service using the `obspy` package.\n",
    "\n",
    "Note that RESIF was renamed EPOS-France in 2022. The web service is still available at the same address."
   ]
  },
  {
   "cell_type": "code",
   "execution_count": 3,
   "metadata": {},
   "outputs": [
    {
     "data": {
      "image/png": "[encoded data removed]",
      "text/plain": [
       "<Figure size 640x480 with 1 Axes>"
      ]
     },
     "metadata": {},
     "output_type": "display_data"
    },
    {
     "data": {
      "text/plain": [
       "Origin\n",
       "\t       resource_id: ResourceIdentifier(id=\"smi:franceseisme.fr/origin/331941\")\n",
       "\t              time: UTCDateTime(2019, 11, 11, 10, 52, 45, 840246) [confidence_level=89.99999762, uncertainty=0.005421964447]\n",
       "\t         longitude: 4.641592979 [confidence_level=89.99999762, uncertainty=0.02541704905]\n",
       "\t          latitude: 44.52632904 [confidence_level=89.99999762, uncertainty=0.03548455292]\n",
       "\t             depth: 2044.0418720000002 [uncertainty=53.976710589999996]\n",
       "\t        depth_type: 'from location'\n",
       "\t         method_id: ResourceIdentifier(id=\"LOCSAT\")\n",
       "\t    earth_model_id: ResourceIdentifier(id=\"auvergne_taup-2.11\")\n",
       "\t           quality: OriginQuality(associated_phase_count=262, used_phase_count=164, associated_station_count=185, used_station_count=119, standard_error=0.4831854149, azimuthal_gap=65.42434692, minimum_distance=0.05398160219, maximum_distance=4.894136906, median_distance=1.80831933)\n",
       "\t       origin_type: 'hypocenter'\n",
       "\t   evaluation_mode: 'manual'\n",
       "\t evaluation_status: 'preliminary'\n",
       "\t     creation_info: CreationInfo(agency_id='RENASS', author='remi@nestea')"
      ]
     },
     "execution_count": 3,
     "metadata": {},
     "output_type": "execute_result"
    }
   ],
   "source": [
    "# Connect to the RESIF web service\n",
    "client = Client(\"RESIF\")\n",
    "\n",
    "# Get the list of events at this time\n",
    "# This is sufficient to constrain the search around Le Teil earthquake\n",
    "events = client.get_events(\n",
    "    starttime=obspy.UTCDateTime(2019, 11, 11, 10, 50),\n",
    "    endtime=obspy.UTCDateTime(2019, 11, 11, 10, 55),\n",
    ")\n",
    "\n",
    "# Plot the events on a map\n",
    "events.plot(projection=\"local\", resolution=\"i\")\n",
    "\n",
    "# Get the only event in the list and show its origin\n",
    "event = events[0]\n",
    "event.origins[0]"
   ]
  },
  {
   "cell_type": "markdown",
   "metadata": {},
   "source": [
    "### 2.2 Fetch available stations\n",
    "\n",
    "We can now look for available seismic station around the time and place of the estimated earthaquake location. Note that with the seismic network in France, we have a good coverage of the country and may find already about 10 seismic station with a distance of less than 100km from the epicenter. We will use the `obspy` package to fetch the available stations."
   ]
  },
  {
   "cell_type": "code",
   "execution_count": null,
   "metadata": {},
   "outputs": [],
   "source": [
    "# Look for station near the epicenter\n",
    "inventory = client.get_stations(\n",
    "    network=\"FR\",\n",
    "    channel=\"HHZ\",\n",
    "    starttime=event.origins[0].time - 5,\n",
    "    endtime=event.origins[0].time + 125,\n",
    "    latitude=event.origins[0].latitude,\n",
    "    longitude=event.origins[0].longitude,\n",
    "    maxradius=1,\n",
    "    matchtimeseries=True,\n",
    ")\n",
    "\n",
    "# Plot inventory\n",
    "fig = inventory.plot(projection=\"local\", resolution=\"i\", show=False)\n",
    "events.plot(projection=\"local\", resolution=\"i\", fig=fig, title=\"Available stations\")\n",
    "\n",
    "# Show information\n",
    "inventory"
   ]
  },
  {
   "cell_type": "markdown",
   "metadata": {},
   "source": [
    "### 2.3. Download seismograms\n",
    "\n",
    "We can now download the seismic waveforms from the seismic stations we have found in the previous step. We will use the `obspy` package to fetch the seismic records. We will work at the natural sampling rate of the stations, which is 100Hz for most of them. We will also use the `obspy` package to plot the seismic records.\n",
    "\n",
    "> __Question 2.__ Give a basic description of the seismic records. What is the sampling rate of the seismic records? What is the duration of the seismic records? "
   ]
  },
  {
   "cell_type": "code",
   "execution_count": null,
   "metadata": {},
   "outputs": [],
   "source": [
    "# Create an empty stream object\n",
    "stream = obspy.Stream()\n",
    "\n",
    "# Loop every network and station\n",
    "for network in inventory:\n",
    "    for station in network:\n",
    "\n",
    "        try:\n",
    "\n",
    "            # Get waveform data\n",
    "            trace = client.get_waveforms(\n",
    "                network.code,\n",
    "                station.code,\n",
    "                \"*\",\n",
    "                \"HHZ\",\n",
    "                starttime=event.origins[0].time - 5,\n",
    "                endtime=event.origins[0].time + 125,\n",
    "            )\n",
    "\n",
    "            # Merge data\n",
    "            trace.merge(fill_value=\"interpolate\")\n",
    "\n",
    "            # Add station location\n",
    "            trace[0].stats.coordinates = {\n",
    "                \"latitude\": station.latitude,\n",
    "                \"longitude\": station.longitude,\n",
    "            }\n",
    "\n",
    "            # Add event information\n",
    "            \n",
    "\n",
    "            # Add to stream\n",
    "            stream += trace[0]\n",
    "\n",
    "        except:\n",
    "            # If no data, print a message and continue\n",
    "            print(f\"No data for station {network.code}.{station.code}\")\n",
    "\n",
    "# Save stream as pickle file to keep the coordinates (not possible with miniseed)\n",
    "stream.write(\"data/waveforms.pickle\", format=\"PICKLE\")\n",
    "\n",
    "# Print stream information\n",
    "print(stream)\n",
    "\n",
    "# Print success message\n",
    "print(f\"Saved {len(stream)} traces in ./data/waveforms.pickle\")\n",
    "\n",
    "# Plot the stream\n",
    "stream.plot(\n",
    "    type=\"section\",\n",
    "    orientation=\"horizontal\",\n",
    "    dist_degree=True,\n",
    "    ev_coord=(event.origins[0].latitude, event.origins[0].longitude),\n",
    ");"
   ]
  },
  {
   "cell_type": "markdown",
   "metadata": {},
   "source": [
    "### 2.4. Plot the waveforms and pick the P-wave arrival times\n",
    "\n",
    "Now we can explore the data content and pick the P-wave arrival times. Picking seismic arrival times is a difficult task that requires a lot of experience. Usually, this is done by a human expert. Here we will use the `obspy` package to pick the P-wave arrival times, using a old-school method based on the STA/LTA ratio (short-time average over long-term average). We will use the `obspy` package to plot the seismic records and the picked arrival times.\n",
    "\n",
    "> __Question 3.__ The STA/LTA method is a simple method to pick the P-wave arrival times. What are the advantages and disadvantages of this method? What values of the STA/LTA ratio would you use to pick the P-wave arrival times?"
   ]
  },
  {
   "cell_type": "code",
   "execution_count": null,
   "metadata": {},
   "outputs": [],
   "source": [
    "from obspy.signal.trigger import classic_sta_lta, trigger_onset\n",
    "\n",
    "# Read waveforms from pickle file\n",
    "stream = obspy.read(\"data/waveforms.pickle\")\n",
    "\n",
    "# Define the short and long term average\n",
    "short_term_average = 1\n",
    "long_term_average = 10\n",
    "\n",
    "# Get firt arrive time\n",
    "for trace in stream:\n",
    "    # Convert short and long term average to number of samples\n",
    "    n_sta = int(short_term_average * trace.stats.sampling_rate)\n",
    "    n_lta = int(long_term_average * trace.stats.sampling_rate)\n",
    "\n",
    "    # Get trigger\n",
    "    trigger = classic_sta_lta(trace.data, n_sta, n_lta)\n",
    "\n",
    "    # Get onset from trigger function\n",
    "    onset = trigger_onset(trigger, 2, 0.5)\n",
    "\n",
    "    # If onset is found, add it to the trace\n",
    "    if np.size(onset) > 0:\n",
    "        onset = onset[0, 0]\n",
    "        trace.stats.onset = onset / trace.stats.sampling_rate\n",
    "    else:\n",
    "        # Print a message if no onset is found\n",
    "        print(f\"No onset found for {trace.id}\")\n",
    "\n",
    "# Plot waveforms\n",
    "fig, axes = plt.subplots(len(stream), sharex=True, figsize=(10, 10))\n",
    "for ax, trace in zip(axes, stream):\n",
    "    ax.plot(trace.times(), trace.data)\n",
    "    ax.axvline(trace.stats.onset, color=\"r\")\n",
    "    ax.set_xlim(0, 120)\n",
    "    ax.set_yticks([])\n",
    "    ax.set_xlabel(\"Time (s)\")\n",
    "    ax.set_ylabel(trace.stats.station)\n",
    "    ax.grid()"
   ]
  },
  {
   "cell_type": "markdown",
   "metadata": {},
   "source": [
    "## 3. Inverse problem\n",
    "\n",
    "### 3.1. Theoretical background\n",
    "\n",
    "The coordinates of the seismic stations and the velocity of the _P_ wave are assumed which means that the velocities uncertainties are supposed to be negligible in comparison with the uncertainties of the observed arrival times. For a source located at the position $x = (\\lambda, \\varphi)$, the predicted arrival times $\\hat{t}_i$ of the seismic wave recorded at station $i$ located at $x_i = (\\lambda_i, \\varphi_i)$ are predicted by the forward model $\\mathcal{G}$ as\n",
    "\n",
    "$$ \\hat{t}_i = \\mathcal{G}_i(x_i) = \\frac{\\mathcal{D}(x, x_i)}{v},$$\n",
    "\n",
    "where the velocity $v$ is considered to be constant for the sake of simplicity. The function $\\mathcal{D}$ is the great circle distance between the source and the station. From the lecture, we know that the _posterior_ information $\\sigma(m)$ is a combination of all informations we have which can be expressed as \n",
    "\n",
    "$$\\sigma(m) = k \\rho(m) \\mathcal{L}(m)$$\n",
    "\n",
    "where $k$ is a normalization constant, $\\rho(m)$ is the *a priori* and $\\mathcal{L}(m)$ is the likelihood function. If we consider the uncertainties to be Gaussian with a standard deviation $\\nu$, the likelihood function $\\mathcal{L}(m)$ is expressed as:\n",
    "\n",
    "$$ \\mathcal{L}(m) = k' \\exp\\left( -\\frac{1}{2} \\sum\\limits_{i=1}^{n} \\left(\\frac{t_{i}-\\hat{t}_i}{\\nu}\\right)^2 \\right)$$\n",
    "\n",
    "where $k'$ is a normalization constant. Injecting the likelihood function into the posterior information, we obtain:\n",
    "\n",
    "$$\n",
    "\\sigma(m) = kk' \\rho(m) \\exp\\left( -\\frac{1}{2} \\sum_{i=1}^{n} \\left(\\frac{t_{i}-\\hat{t}_i}{\\nu}\\right)^2\\right)\n",
    "$$\n",
    "\n",
    "For now we can take the a priori information $\\rho(m)$ as a constant, since we do not have yet a priori information about the epicenter location for now. We will come back to this point later. The posterior information $\\sigma(m)$ is then proportional to the likelihood function $\\mathcal{L}(m)$, which means that the maximum of the posterior information is also the maximum of the likelihood function. We can then maximize the likelihood function to find the epicenter location, denoted $m^*$, that best fits the data. The maximum of the likelihood function is obtained by maximizing the following function:\n",
    "\n",
    "$$\n",
    "m^* = \\arg\\max\\limits_{m}\\, \\exp\\left(-\\frac{1}{2} \\sum\\limits_{i=1}^{n} \\left(\\frac{t_{i}-\\hat{t}_i}{\\nu}\\right)^2\\right)\n",
    "$$"
   ]
  },
  {
   "cell_type": "markdown",
   "metadata": {},
   "source": [
    "### 3.2. Estimation of the epicenter location from few stations\n",
    "\n",
    "At first we will work with (deliberately) too few seismic stations which naturally brings biases in the estimation of the epicenter location. We will select three stations located in a line along the Rhône valley: OGCN, OGCB, and OGDF. "
   ]
  },
  {
   "cell_type": "code",
   "execution_count": null,
   "metadata": {},
   "outputs": [],
   "source": [
    "# Extract selected stations\n",
    "stream_line = stream.select(station=\"OG*\")\n",
    "\n",
    "# Remove OGCC station\n",
    "stream_line = stream_line.remove(stream_line.select(station=\"OGCC\")[0])\n",
    "stream_line = stream_line.remove(stream_line.select(station=\"OGS2\")[0])\n",
    "stream_line = stream_line.remove(stream_line.select(station=\"OGS3\")[0])\n",
    "\n",
    "# Print stream information\n",
    "stream_line"
   ]
  },
  {
   "cell_type": "markdown",
   "metadata": {},
   "source": [
    "Now the idea is to sample the probability density $\\mathcal{L}(m)$ at random positions $m$ to have an idea of the entire probability distribution. "
   ]
  },
  {
   "cell_type": "code",
   "execution_count": null,
   "metadata": {},
   "outputs": [],
   "source": []
  },
  {
   "cell_type": "markdown",
   "metadata": {},
   "source": [
    "### 3.3 Plot the likelihood\n",
    "\n",
    "Compute here the likelihood function $\\mathcal{L}(m)$ for a grid of epicenter locations $m$ and plot it. You can use the `matplotlib` package to plot the likelihood function."
   ]
  },
  {
   "cell_type": "code",
   "execution_count": null,
   "metadata": {},
   "outputs": [],
   "source": [
    "extent = [3, 7, 43, 46]\n",
    "\n",
    "latitudes, longitudes, likelihood = solver.monte_carlo_gaussian(\n",
    "    stream_line, shots=40000, uncertainty=10, wavespeed=3, extent=extent\n",
    ")\n",
    "\n",
    "# Plot the likelihood\n",
    "ax = solver.basemap(extent=extent, stream=stream_line, event=event)\n",
    "\n",
    "# Plot likelihood\n",
    "img = ax.scatter(longitudes, latitudes, c=likelihood, cmap=\"RdPu\", s=9)\n",
    "plt.colorbar(img, ax=ax, label=\"Likelihood\", shrink=0.8)\n",
    "\n",
    "# Show\n",
    "plt.show()"
   ]
  },
  {
   "cell_type": "markdown",
   "metadata": {},
   "source": [
    "### 3.3. Working with all the stations\n",
    "\n",
    "Now we will work with all the stations we have found in the previous step."
   ]
  },
  {
   "cell_type": "code",
   "execution_count": null,
   "metadata": {},
   "outputs": [],
   "source": [
    "extent = [3, 7, 43, 46]\n",
    "\n",
    "latitudes, longitudes, likelihood = solver.monte_carlo_gaussian(\n",
    "    stream, shots=40000, uncertainty=10, wavespeed=3, extent=extent\n",
    ")\n",
    "\n",
    "# Plot the likelihood\n",
    "ax = solver.basemap(extent=extent, stream=stream, event=event)\n",
    "\n",
    "# Plot likelihood\n",
    "img = ax.scatter(longitudes, latitudes, c=likelihood, cmap=\"RdPu\", s=9)\n",
    "plt.colorbar(img, ax=ax, label=\"Likelihood\", shrink=0.8)\n",
    "\n",
    "# Show\n",
    "plt.show()"
   ]
  },
  {
   "cell_type": "markdown",
   "metadata": {},
   "source": [
    "As we can see on these plots, the time picking for OGCC is erroneous. Actually, this means that the problem is statistically biaised. In fact, we introduced an aberrant arriving time ```Tobs```  at  one station.  Because the Gaussian assumption is used, the result is very sensitive to big errors (even if there is a small number of them)."
   ]
  },
  {
   "cell_type": "markdown",
   "metadata": {},
   "source": [
    "### 3.4. Deal with biases in dataset\n",
    "\n",
    "Your are invited to consider changing the Gaussian model by the more robust Laplacian model,\n",
    "and/or introducing a priori information.  \n",
    "\n",
    "First, here is the Laplace distribution:\n",
    "\n",
    "$\\begin{equation}\n",
    "L_L(m) = k.exp{\\left[-\\sum\\limits_{i=1}^{n} \\frac{\\lvert t_{i}-t_{obs}\\lvert}{\\sigma_i}\\right]} \\tag{6}\n",
    "\\end{equation}$\n",
    "\n",
    "where $k$ is a normalization constant. For sake of simplicity of this lab, we can ignore it. \n",
    "\n",
    "#### Questions\n",
    "\n",
    "1. Modify the function ```MC_Gauss(...)``` to ```MC_Laplace(...)``` to use the Laplacian distribution.\n",
    "2. Make your function run over the parameters space and plot the results\n",
    "3. Which station is concerned by the biais?"
   ]
  },
  {
   "cell_type": "code",
   "execution_count": null,
   "metadata": {},
   "outputs": [],
   "source": [
    "extent = [3, 7, 43, 46]\n",
    "\n",
    "latitudes, longitudes, likelihood = solver.monte_carlo_laplacian(\n",
    "    stream, shots=40000, uncertainty=6, wavespeed=4, extent=extent\n",
    ")\n",
    "\n",
    "# Plot the likelihood\n",
    "ax = solver.basemap(extent=extent, stream=stream, event=event)\n",
    "\n",
    "# Plot likelihood\n",
    "img = ax.scatter(longitudes, latitudes, c=likelihood, cmap=\"RdPu\", s=9)\n",
    "plt.colorbar(img, ax=ax, label=\"Likelihood\", shrink=0.8)\n",
    "\n",
    "# Show\n",
    "plt.show()"
   ]
  },
  {
   "cell_type": "markdown",
   "metadata": {},
   "source": [
    "#### Comments\n",
    "Accounting for a more robust model, the inversion is somewhat less biaised and the result is better. "
   ]
  },
  {
   "cell_type": "markdown",
   "metadata": {
    "slideshow": {
     "slide_type": "slide"
    }
   },
   "source": [
    "### 3.5. Introducing a priori information from InSAR\n",
    "\n",
    "Now, we will add a priori information from surface displacement obtained from Sentinel-S1 InSAR between the Nov. 6 and Nov. 12. First, we need to read the displacement map. The results are contained in a GeoTiff file ``InSAR_S1/Drome_EQTeil_displacement_VV_06Nov2019_12Nov2019.tif``. This file comes with Geo Tags in Exifs. For reading these metadata various libs exist, such as ``rasterio``, ``georaster``, ``osgeo``. ``PIL`` and ``OpenCV`` are other image processing libraries that could be also considered. Because you may not have these libs installed, we made a copy into a PNG flat file that can be directly read with ``matplotlib`` or ``scipy`` that should be present in your system. Unfortunately, the Geo tags are no more present into the file and the image footprint in Lamber 93 system needs to be manually provided as:\n",
    "\n",
    "```python\n",
    "ul=[825930.7,6376723.7]\n",
    "lr=[840754.7,6387758.4]\n",
    "```\n",
    "\n",
    "Note that we do a simplistic remapping of the geographic coordinates which is sufficient for the purpose of the lab but a proper warping should be done for accurate results. For those interested in exploring the geospatial approach   the mandatory libs need to be installed. You would need the ``Scripts/ConvertProj.ipynb`` for converting the geographic coordinates into Lambert-93."
   ]
  },
  {
   "cell_type": "code",
   "execution_count": null,
   "metadata": {},
   "outputs": [],
   "source": [
    "ul=[825930.7,6376723.7]\n",
    "lr=[840754.7,6387758.4]"
   ]
  },
  {
   "cell_type": "markdown",
   "metadata": {},
   "source": [
    "**Hint**\n",
    "\n",
    "The ``.imread`` function of ``matplotlib`` returns a ``numpy.array``"
   ]
  },
  {
   "cell_type": "code",
   "execution_count": null,
   "metadata": {},
   "outputs": [],
   "source": [
    "im = plt.imread('data/Drome_EQTeil_displacement_VV_06Nov2019_12Nov2019.png')"
   ]
  },
  {
   "cell_type": "code",
   "execution_count": null,
   "metadata": {},
   "outputs": [],
   "source": [
    "fig, ax = plt.subplots()\n",
    "ax.imshow(im,interpolation='bilinear', cmap=cm.RdYlGn,\n",
    "               extent=[ul[0], lr[0],ul[1], lr[1]])\n",
    "plt.title('InSAR from Sentinel-1 (Master: 6-Nov / Slave: 12-Nov)')\n",
    "ax.set_aspect('equal', 'box')"
   ]
  },
  {
   "cell_type": "markdown",
   "metadata": {},
   "source": [
    "Let's use this location as a prior on the inversion. We take the center of the displaced area in X coordinate (named ``xx``) and we take an uncertainties sigma of  the lateral extend (i.e., ``sigma2``). Then we compute a prior with a Gaussian distribution, centered in ``xx`` with a standard deviation ``sigma2``. We test with ```MC_Gauss(...)``` function and the ``problem2`` defined above : \n",
    "```python\n",
    "xx=832000;\n",
    "sigma2=2000;\n",
    "```"
   ]
  },
  {
   "cell_type": "code",
   "execution_count": null,
   "metadata": {},
   "outputs": [],
   "source": [
    "xx=832000; \n",
    "sigma2=2000;\n",
    "#yy=6382000\n",
    "\n",
    "gobs_InSar = MC_Gauss(problem1, param_space)\n",
    "\n",
    "\n",
    "fprior =    np.exp( -0.5* (gobs_InSar[:,0] - xx)**2/sigma2**2)\n",
    "\n",
    "gobs_InSar[:,2] = fprior*gobs_InSar[:,2];\n",
    "title = 'EQ estimation from 3 stations, with Prior'\n",
    "plot_dist_obs(gobs_InSar, problem1, title)"
   ]
  },
  {
   "cell_type": "markdown",
   "metadata": {},
   "source": [
    "#### Comments\n",
    "\n",
    "Providing an a priori when the observable are biased (i.e., problem1) is strongly helpfull."
   ]
  },
  {
   "cell_type": "markdown",
   "metadata": {},
   "source": [
    "Now, let's play with problem2:"
   ]
  },
  {
   "cell_type": "code",
   "execution_count": null,
   "metadata": {},
   "outputs": [],
   "source": [
    "gobs_InSar2 = MC_Laplace(problem2, param_space)\n",
    "fprior =    np.exp( -0.5* (gobs_InSar2[:,0] - xx)**2/sigma2**2)\n",
    "gobs_InSar2[:,2] = fprior*gobs_InSar2[:,2];\n",
    "title = 'EQ estimation from 7 stations, with Prior and error'\n",
    "plot_dist_obs(gobs_InSar2, problem2, title)"
   ]
  },
  {
   "cell_type": "markdown",
   "metadata": {},
   "source": [
    "The solution is helped by the a priori knowledge of the problem. "
   ]
  },
  {
   "cell_type": "markdown",
   "metadata": {},
   "source": [
    "### 3.6 Further investigations \n",
    "First, let evaluate our solution with the actual one."
   ]
  },
  {
   "cell_type": "code",
   "execution_count": null,
   "metadata": {},
   "outputs": [],
   "source": [
    "# Here we search for the maximum probability, but keep in mind that the less probable solution are still valid.\n",
    "\n",
    "ind = np.where(gobs_InSar2[:,2]==np.max(gobs_InSar2[:,2]))\n",
    "Xprob = gobs_InSar2[ind,0] ; Yprob = gobs_InSar2[ind,1]\n",
    "\n",
    "fig=plt.figure()\n",
    "ax=fig.add_axes([0,0,1,1])\n",
    "ax.scatter(gobs_InSar2[:,0]/1000., gobs_InSar2[:,1]/1000., edgecolors='none', \n",
    "               s=10, c=gobs_InSar2[:,2], cmap=plt.cm.OrRd)          \n",
    "ax.scatter(problem2[\"longitude\"]/1000., problem2[\"latitude\"]/1000.,\n",
    "               edgecolors='k',s=20)\n",
    "ax.scatter(Xprob/1000,Yprob/1000,edgecolors='k',s=40)\n",
    "\n",
    "# Actual location from references:\n",
    "XEQ=832796\n",
    "YEQ=6381286\n",
    "ax.scatter(XEQ/1000,YEQ/1000, edgecolors='k',s=40)\n",
    "\n",
    "ax.set(xlabel='X-Lon. [km]', ylabel='Y-Lat. [km]', \n",
    "           title=title)\n",
    "ax.set_aspect('equal', 'box')\n",
    "for i, point in problem2.iterrows():\n",
    "        ax.text(point['longitude']/1000.+2, point['latitude']/1000., str(point['station']))\n",
    "         \n",
    "plt.show()"
   ]
  },
  {
   "cell_type": "markdown",
   "metadata": {},
   "source": [
    "We see that our most probable solution is closed to the actual's. In any case, the actual solution is inside our most probable area. So even with our simplifications and biais for one station, our solution is acceptable.\n",
    "\n",
    "Now, let's retrieve the correct time arrival at ``OGCC`` from our most probable location."
   ]
  },
  {
   "cell_type": "code",
   "execution_count": null,
   "metadata": {},
   "outputs": [],
   "source": [
    "Xstep=problem2[problem2[\"station\"].isin([\"OGCC\"])][\"longitude\"].to_numpy()\n",
    "Ystep=problem2[problem2[\"station\"].isin([\"OGCC\"])][\"latitude\"].to_numpy()\n",
    "Tcal = np.sqrt((Xprob - Xstep)**2 + (Yprob - Ystep)**2)/param_space[\"v\"]\n",
    "problem_corr = problem2.copy()\n",
    "problem_corr.head()"
   ]
  },
  {
   "cell_type": "code",
   "execution_count": null,
   "metadata": {},
   "outputs": [],
   "source": [
    "problem_corr.loc[problem_corr[\"station\"].isin([\"OGCC\"]), 'Tobs'] = Tcal\n",
    "data_picking.loc[data_picking[\"station\"].isin([\"OGCC\"]), 'Tobs'] = Tcal\n",
    "\n",
    "problem_corr.head()"
   ]
  },
  {
   "cell_type": "code",
   "execution_count": null,
   "metadata": {},
   "outputs": [],
   "source": [
    "plot_trace(problem_corr)"
   ]
  },
  {
   "cell_type": "markdown",
   "metadata": {},
   "source": [
    "Let's play with some parameter of the model, for example, let's try v = 5041;"
   ]
  },
  {
   "cell_type": "code",
   "execution_count": null,
   "metadata": {},
   "outputs": [],
   "source": [
    "param_space = {}\n",
    "\n",
    "param_space[\"Xmin\"] = 7.8e5 \n",
    "param_space[\"Xmax\"] = 9.5e5;\n",
    "param_space[\"Ymin\"] = 6.3e6; \n",
    "param_space[\"Ymax\"] = 6.46e6;\n",
    "param_space[\"n_run\"]= 5e5;  \n",
    "param_space[\"v\"]    = 5041; \n",
    "\n",
    "sol_corr = MC_Laplace(problem_corr, param_space)\n",
    "\n",
    "ind = np.where(sol_corr[:,2]==np.max(sol_corr[:,2]))\n",
    "Xprob = sol_corr[ind,0] ; Yprob = sol_corr[ind,1]\n",
    "\n",
    "\n",
    "title='Solution with correction and v=5km/s'\n",
    "fig=plt.figure()\n",
    "ax=fig.add_axes([0,0,1,1])\n",
    "ax.scatter(sol_corr[:,0]/1000., sol_corr[:,1]/1000., edgecolors='none', \n",
    "               s=10, c=sol_corr[:,2], cmap=plt.cm.OrRd)          \n",
    "ax.scatter(problem_corr[\"longitude\"]/1000., problem_corr[\"latitude\"]/1000.,\n",
    "               edgecolors='k',s=20)\n",
    "ax.scatter(Xprob/1000,Yprob/1000,edgecolors='k',s=40)\n",
    "\n",
    "# Actual location from references:\n",
    "XEQ=832796\n",
    "YEQ=6381286\n",
    "ax.scatter(XEQ/1000,YEQ/1000, edgecolors='k',s=40)\n",
    "\n",
    "ax.set(xlabel='X-Lon. [km]', ylabel='Y-Lat. [km]', \n",
    "           title=title)\n",
    "ax.set_aspect('equal', 'box')\n",
    "for i, point in problem_corr.iterrows():\n",
    "        ax.text(point['longitude']/1000.+2, point['latitude']/1000., str(point['station']))\n",
    "         \n",
    "plt.show()"
   ]
  },
  {
   "cell_type": "markdown",
   "metadata": {},
   "source": [
    "Our solution becomes really close the real one."
   ]
  },
  {
   "cell_type": "markdown",
   "metadata": {},
   "source": [
    "## Some references\n",
    "\n",
    "CNRS report (in French):\n",
    "https://www.cnrs.fr/fr/seisme-du-teil-vers-une-reevaluation-du-risque-sismique-en-france-et-en-europe-de-louest\n",
    "\n",
    "Journal article (in English): https://doi.org/10.1038/s43247-020-0012-z"
   ]
  }
 ],
 "metadata": {
  "kernelspec": {
   "display_name": "Python 3 (ipykernel)",
   "language": "python",
   "name": "python3"
  },
  "language_info": {
   "codemirror_mode": {
    "name": "ipython",
    "version": 3
   },
   "file_extension": ".py",
   "mimetype": "text/x-python",
   "name": "python",
   "nbconvert_exporter": "python",
   "pygments_lexer": "ipython3",
   "version": "3.11.7"
  }
 },
 "nbformat": 4,
 "nbformat_minor": 4
}
