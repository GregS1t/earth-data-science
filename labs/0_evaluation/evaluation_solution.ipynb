{
  "cells": [
    {
      "attachments": {},
      "cell_type": "markdown",
      "metadata": {
        "id": "8KYU1qRgupg8"
      },
      "source": [
        "# Self-evaluation session\n",
        "\n",
        "![](./images/self-evaluation-python-panda.png)\n",
        "\n",
        "The original version of this notebook was made by Antoine Lucas and adapted by Leonard Seydoux in 2023 by Léonard Seydoux (seydoux@ipgp.fr) for the course _Earth Data Science_ at the [Institut de Physique du Globe de Paris](https://www.ipgp.fr/fr) (IPGP). If you have found a bug or have a suggestion, please feel free to contact me.\n",
        "\n",
        "## Instructions\n",
        "\n",
        "This notebook contains a series of questions to which you should answer. Some example cells are given in the notebook to help you. You should not modify these cells. You can add as many cells as you want to answer the questions. You can also add markdown cells to explain your approach. \n",
        "\n",
        "## 1. Introduction\n",
        "\n",
        "The goal here is to allow you to evaluate your knowledge of Python and scientific libraries and to see the requirements for these practicals. The following suite of exercices are supposed to bu fully understood and solved before the beginning of the practicals in order to fully benefit from the practicals. If you feel you do not master the following exercices, please take time to go throught this notebook step-by-step and to reach out to the teaching team if you have any question.\n",
        "\n",
        "This session also provides you access to the ressources that can help you in a daily basis to solve your problems. The following ressources are the most important ones.\n",
        "\n",
        "__Technical documentations__ are always a good start to understand the API (application programming interface) of a library. It is also a good way to find examples of use of the library. For instance, the documentation of the `numpy` library is available [here](https://numpy.org/doc/stable/). The documentation of a specific function is also available from the command line with the `?` operator. For instance, if you want to know more about the `numpy.array` function, you can type `numpy.array?` in a cell and run it. A window will appear with the documentation of the function. You can also use the `help` function to get the documentation of a function. For instance, `help(numpy.array)` will print the documentation of the `numpy.array` function in the notebook.\n",
        "\n",
        "__StackOverflow__ is a website where you can find answers to most of your questions. It is a good way to find solutions to your problems. However, it is important to understand that the quality of the answers is not always good and that you should always check the answers you find on this website. You can find the website [here](https://stackoverflow.com/).\n",
        "\n",
        "__Cheatsheets__. A cheat sheet is a good way to find the most common functions of a library (most of libraries have a cheat sheet). At IPGP, researchers have made a cheat sheet for the most common scientific libraries in Python. You can find the website [here](https://ipgp.github.io/scientific_python_cheat_sheet/)."
      ]
    },
    {
      "attachments": {},
      "cell_type": "markdown",
      "metadata": {
        "id": "jNTSWHAWHkb6"
      },
      "source": [
        "## 1. Lists and tuples\n",
        "\n",
        "We will use the term _object_ a lot in this course. In Python, everything is an object. An object is a data structure that contains data (named __attributes__) and functions (named __methods__) that can be applied to this data. For instance, a `list` object contains data, i.e., the elements of the list, and functions that can be applied to this list. For instance, the methods `append`, `sort`, `reverse`, etc. The list of methods that can be applied to a `list` object is available [here](https://docs.python.org/3/tutorial/datastructures.html#more-on-lists). You can also infer the available methods of a given object with the `dir` function. For instance, `dir(list)` will print the list of methods that can be applied to a `list` object.\n",
        "\n",
        "### 1.1. `list` objects\n",
        "\n",
        "1. Create a list containing the intergers from 4 to 6. Store this list in a variable called `integers` and display it.\n",
        "2. Create a list containing the first 3 letters of the alphabet. Store this list in a variable called `letters` and display it.\n",
        "3. Display the second element of `letters`. Replace this second element with the letter \"d\", without redefining the entire list, and display the list.\n",
        "4. Add up the lists `integers` and `letters` into a new list which you will chose the name carefully. Display this new list. What do you observe?\n",
        "5. Multiply the list `letters` by 2 and display the result. What do you observe?\n",
        "6. Try to multiply the list `letters` by `letters`. What do you observe?\n",
        "7. What is the type of `letters`?"
      ]
    },
    {
      "cell_type": "code",
      "execution_count": 1,
      "metadata": {},
      "outputs": [
        {
          "name": "stdout",
          "output_type": "stream",
          "text": [
            "1. [4, 5, 6]\n",
            "2. ['a', 'b', 'c']\n",
            "3. b\n",
            "3. ['a', 'd', 'c']\n",
            "4. [4, 5, 6, 'a', 'd', 'c']\n",
            "5. ['a', 'd', 'c', 'a', 'd', 'c']\n",
            "6. Error: can't multiply sequence by non-int of type 'list'\n",
            "7. <class 'list'>\n"
          ]
        }
      ],
      "source": [
        "# 1\n",
        "integers = list(range(4, 7))\n",
        "print(\"1.\", integers)\n",
        "\n",
        "# 2\n",
        "letters = [\"a\", \"b\", \"c\"]\n",
        "print(\"2.\", letters)\n",
        "\n",
        "# 3\n",
        "print(\"3.\", letters[1])\n",
        "letters[1] = \"d\"\n",
        "print(\"3.\", letters)\n",
        "\n",
        "# 4\n",
        "integers_and_letters = integers + letters\n",
        "print(\"4.\", integers_and_letters)\n",
        "\n",
        "# 5\n",
        "print(\"5.\", 2 * letters)\n",
        "\n",
        "# 6\n",
        "try:\n",
        "    print(\"6.\", letters * letters)\n",
        "except:\n",
        "    print(\"6. Error: can't multiply sequence by non-int of type 'list'\")\n",
        "\n",
        "# 7\n",
        "print(\"7.\", type(letters))"
      ]
    },
    {
      "attachments": {},
      "cell_type": "markdown",
      "metadata": {
        "id": "JDNEqGcs0XnH"
      },
      "source": [
        "### 1.2. `list` methods\n",
        "\n",
        "1. Create the following list with the elements \"CH4\", \"H2O\", \"NH3\", \"O3\", \"C02\", \"CH3COOH\" and store is in the variable `molecules`.\n",
        "2. Find the index of the molecule \"H2O\" in this list.\n",
        "3. Now, find all indexes of \"H2O\" in the following list : [\"CH4\", \"H2O\", \"NH3\", \"O3\", \"H2O\", \"CH3COOH\", \"H20\"]"
      ]
    },
    {
      "cell_type": "code",
      "execution_count": 2,
      "metadata": {
        "id": "wum8HCLYz6vp"
      },
      "outputs": [
        {
          "name": "stdout",
          "output_type": "stream",
          "text": [
            "Index of H2O: 1\n",
            "Indexes of H2O: [1, 4]\n"
          ]
        }
      ],
      "source": [
        "# First occurrence\n",
        "molecules = [\"CH4\", \"H2O\", \"NH3\", \"O3\", \"C02\", \"CH3COOH\"]\n",
        "index_of_h2o = molecules.index(\"H2O\")\n",
        "print(\"Index of H2O:\", index_of_h2o)\n",
        "\n",
        "# Multiple occurrences\n",
        "molecules_2 = [\"CH4\", \"H2O\", \"NH3\", \"O3\", \"H2O\", \"CH3COOH\", \"H20\"]\n",
        "indexes_of_h2o = [i for i, x in enumerate(molecules_2) if x == \"H2O\"]\n",
        "print(\"Indexes of H2O:\", indexes_of_h2o)"
      ]
    },
    {
      "attachments": {},
      "cell_type": "markdown",
      "metadata": {
        "id": "1DhpahCH0KRR"
      },
      "source": [
        "### 1.3. `tuple` objects\n",
        "\n",
        "1. Create a tuple `alphabet` containing the first three letters of the alphabet. Print the second element of the tuple. Replace the second element with the letter \"d\", without redefining the entire tuple, and print the tuple. What do you observe?\n",
        "2. Add the list `letters` to the tuple `alphabet` and print the result. What do you observe?"
      ]
    },
    {
      "cell_type": "code",
      "execution_count": 3,
      "metadata": {
        "id": "bgQpOoS56BSY"
      },
      "outputs": [
        {
          "name": "stdout",
          "output_type": "stream",
          "text": [
            "('a', 'b', 'c')\n",
            "Error: 'tuple' object does not support item assignment\n",
            "Error: can only concatenate tuple (not 'list') to tuple\n"
          ]
        }
      ],
      "source": [
        "alphabet = \"a\", \"b\", \"c\"\n",
        "print(alphabet)\n",
        "\n",
        "try:\n",
        "    alphabet[1] = \"d\"\n",
        "except:\n",
        "    print(\"Error: 'tuple' object does not support item assignment\")\n",
        "\n",
        "try: \n",
        "    print(alphabet + letters)\n",
        "except:\n",
        "    print(\"Error: can only concatenate tuple (not 'list') to tuple\")"
      ]
    },
    {
      "attachments": {},
      "cell_type": "markdown",
      "metadata": {
        "id": "pWBRRF9BKA4P"
      },
      "source": [
        "## 2. Basics of `numpy`\n",
        "\n",
        "The library `numpy` is the most important library for scientific computing in Python. It provides a lot of functions to manipulate arrays and matrices. The documentation of the library is available [here](https://numpy.org/doc/stable/). Several libraries are built on top of `numpy` such as `scipy` (scientific computing), `matplotlib` (plotting), `pandas` (data analysis), `scikit-learn` (machine learning), etc. The documentation of these libraries are available on their respective websites. We will see here the basics of `numpy` and how to manipulate arrays and matrices."
      ]
    },
    {
      "cell_type": "code",
      "execution_count": 4,
      "metadata": {},
      "outputs": [],
      "source": [
        "import numpy as np"
      ]
    },
    {
      "attachments": {},
      "cell_type": "markdown",
      "metadata": {
        "id": "qZXbxBJtMoED"
      },
      "source": [
        "### 2.1. Quick start\n",
        "\n",
        "1. Create a vector `integers` of integerst from 0 to 14.\n",
        "2. Create a vector `reals` of values from 0 to 100 with a step of 0.5.\n",
        "3. Create a vector `angles` ranging from $-\\pi$ to $\\pi$ with 30 steps.\n",
        "4. Create a vector `zeros` with 10 elements of 0 for all the values."
      ]
    },
    {
      "cell_type": "code",
      "execution_count": 5,
      "metadata": {
        "id": "qjSgUmSFRFaU"
      },
      "outputs": [
        {
          "name": "stdout",
          "output_type": "stream",
          "text": [
            "1. [ 0  1  2  3  4  5  6  7  8  9 10 11 12 13 14]\n",
            "2. [ 0.   0.5  1.   1.5  2.   2.5  3.   3.5  4.   4.5  5.   5.5  6.   6.5\n",
            "  7.   7.5  8.   8.5  9.   9.5 10.  10.5 11.  11.5 12.  12.5 13.  13.5\n",
            " 14.  14.5 15.  15.5 16.  16.5 17.  17.5 18.  18.5 19.  19.5 20.  20.5\n",
            " 21.  21.5 22.  22.5 23.  23.5 24.  24.5 25.  25.5 26.  26.5 27.  27.5\n",
            " 28.  28.5 29.  29.5 30.  30.5 31.  31.5 32.  32.5 33.  33.5 34.  34.5\n",
            " 35.  35.5 36.  36.5 37.  37.5 38.  38.5 39.  39.5 40.  40.5 41.  41.5\n",
            " 42.  42.5 43.  43.5 44.  44.5 45.  45.5 46.  46.5 47.  47.5 48.  48.5\n",
            " 49.  49.5 50.  50.5 51.  51.5 52.  52.5 53.  53.5 54.  54.5 55.  55.5\n",
            " 56.  56.5 57.  57.5 58.  58.5 59.  59.5 60.  60.5 61.  61.5 62.  62.5\n",
            " 63.  63.5 64.  64.5 65.  65.5 66.  66.5 67.  67.5 68.  68.5 69.  69.5\n",
            " 70.  70.5 71.  71.5 72.  72.5 73.  73.5 74.  74.5 75.  75.5 76.  76.5\n",
            " 77.  77.5 78.  78.5 79.  79.5 80.  80.5 81.  81.5 82.  82.5 83.  83.5\n",
            " 84.  84.5 85.  85.5 86.  86.5 87.  87.5 88.  88.5 89.  89.5 90.  90.5\n",
            " 91.  91.5 92.  92.5 93.  93.5 94.  94.5 95.  95.5 96.  96.5 97.  97.5\n",
            " 98.  98.5 99.  99.5]\n",
            "3. [-3.14159265 -2.92493109 -2.70826953 -2.49160797 -2.2749464  -2.05828484\n",
            " -1.84162328 -1.62496172 -1.40830016 -1.19163859 -0.97497703 -0.75831547\n",
            " -0.54165391 -0.32499234 -0.10833078  0.10833078  0.32499234  0.54165391\n",
            "  0.75831547  0.97497703  1.19163859  1.40830016  1.62496172  1.84162328\n",
            "  2.05828484  2.2749464   2.49160797  2.70826953  2.92493109  3.14159265]\n",
            "4. [0. 0. 0. 0. 0. 0. 0. 0. 0. 0.]\n"
          ]
        }
      ],
      "source": [
        "# 1\n",
        "integers = np.arange(15)\n",
        "print(\"1.\", integers)\n",
        "\n",
        "# 2\n",
        "reals = np.arange(0, 100, 0.5)\n",
        "print(\"2.\", reals)\n",
        "\n",
        "# 3\n",
        "angles = np.linspace(-np.pi, np.pi, 30)\n",
        "print(\"3.\", angles)\n",
        "\n",
        "# 4\n",
        "zeros = np.zeros(10)\n",
        "print(\"4.\", zeros)"
      ]
    },
    {
      "attachments": {},
      "cell_type": "markdown",
      "metadata": {
        "id": "jovJKkLUYfrU"
      },
      "source": [
        "### 2.2. Basic operations with `numpy` arrays\n",
        "\n",
        "1. Using the numpy functions, perform the following operations:\n",
        "    - $\\sqrt{10}$\n",
        "    - $\\tan(\\pi)$, $\\sin(\\pi)$, $\\cos(\\pi)$\n",
        "    - $\\log(10)$, $\\ln(10)$, $\\exp(1)$\n",
        "2. Generate a random vector $\\bf x$ with 100 elements so that $\\mathbf{x} \\sim \\mathcal{N}(0, 1)$.\n",
        "3. Using numpy functions, estimate \n",
        "    - $\\langle \\mathbf{x} \\rangle$\n",
        "    - $\\sqrt{\\langle \\mathbf{x}^2 - \\langle \\mathbf{x} \\rangle^2 \\rangle}$\n",
        "    - $\\min(\\mathbf{x})$ and $\\max(\\mathbf{x})$\n",
        "4. Create two five-elements vectors (`vector_1` and `vector_2`) with content of your choice.\n",
        "5. Calculate `vector_1 * vector_2`. Then calculate the dot product, and the outer product of `vector_1` and `vector_2`."
      ]
    },
    {
      "cell_type": "code",
      "execution_count": 6,
      "metadata": {
        "id": "MR_jIEcFsF0S"
      },
      "outputs": [
        {
          "name": "stdout",
          "output_type": "stream",
          "text": [
            "sqrt(10): 3.1622776601683795\n",
            "tan(pi): -1.2246467991473532e-16\n",
            "sin(pi): 1.2246467991473532e-16\n",
            "cos(pi): -1.0\n",
            "log10(10): 1.0\n",
            "log(10): 2.302585092994046\n",
            "exp(1): 2.718281828459045\n",
            "x ~ N(0, 1): [ 0.37776314 -1.38160344 -0.37881674 -0.74762837  0.13134497]\n",
            "mean(x): -0.0687977496226215\n",
            "std(x): 0.9223974722156479\n",
            "min(x): -2.9820521115275667\n",
            "max(x): 1.6717039528817559\n",
            "v_1 * v_2: [ 4 10 18 28 40]\n",
            "v_1 . v_2: 100\n",
            "v_1 x v_2: [[ 4  5  6  7  8]\n",
            " [ 8 10 12 14 16]\n",
            " [12 15 18 21 24]\n",
            " [16 20 24 28 32]\n",
            " [20 25 30 35 40]]\n"
          ]
        }
      ],
      "source": [
        "# 1\n",
        "print(\"sqrt(10):\", np.sqrt(10))\n",
        "print(\"tan(pi):\", np.tan(np.pi))\n",
        "print(\"sin(pi):\", np.sin(np.pi))\n",
        "print(\"cos(pi):\", np.cos(np.pi))\n",
        "print(\"log10(10):\", np.log10(10))\n",
        "print(\"log(10):\", np.log(10))\n",
        "print(\"exp(1):\", np.exp(1))\n",
        "\n",
        "# 2\n",
        "x = np.random.normal(loc=0, scale=1, size=100)\n",
        "print(\"x ~ N(0, 1):\", x[:5])\n",
        "\n",
        "# 3\n",
        "print(\"mean(x):\", np.mean(x))\n",
        "print(\"std(x):\", np.std(x))\n",
        "print(\"min(x):\", np.min(x))\n",
        "print(\"max(x):\", np.max(x))\n",
        "\n",
        "# 4\n",
        "vector_1 = np.array([1, 2, 3, 4, 5])\n",
        "vector_2 = np.array([4, 5, 6, 7, 8])\n",
        "\n",
        "# 5\n",
        "print(\"v_1 * v_2:\", vector_1 * vector_2)\n",
        "print(\"v_1 . v_2:\", vector_1.dot(vector_2))\n",
        "print(\"v_1 x v_2:\", np.outer(vector_1, vector_2))"
      ]
    },
    {
      "attachments": {},
      "cell_type": "markdown",
      "metadata": {
        "id": "SFPe063IkbJd"
      },
      "source": [
        "### 2.3 Stacking & reshaping\n",
        "\n",
        "1. Create a vector `angles` ranging from $-\\pi$ to $\\pi$ with 30 steps.\n",
        "2. Reshape the vector `angles` to a 10 $\\times$ 3 matrix called `angles_matrix`\n",
        "3. Create `angles_stacked_horizontally` which is a stack of $angles$ with itself reversed.\n",
        "4. Create `angles_stacked_vertically` which is a stack of $angles$ with itself reversed."
      ]
    },
    {
      "cell_type": "code",
      "execution_count": 7,
      "metadata": {
        "id": "Yzl8uElgngai"
      },
      "outputs": [],
      "source": [
        "angles = np.linspace(-np.pi, np.pi, 30)\n",
        "angles_matrix = np.reshape(angles, (10, 3))\n",
        "angles_stacked_horizontally = np.hstack((angles, angles[::-1]))\n",
        "angles_stacked_vertically = np.vstack((angles, angles[::-1]))"
      ]
    },
    {
      "attachments": {},
      "cell_type": "markdown",
      "metadata": {
        "id": "HMglaWWLuWmS"
      },
      "source": [
        "### 2.4 Read a coma-separated values (CSV) file with `numpy`\n",
        "\n",
        "The most common data-sharing type for numerical data is the CSV file. CSV stands for Comma-Separated Values. It is a simple file format used to store tabular data, such as a spreadsheet or database. Files in the CSV format can be imported to and exported from programs that store data in tables, such as Microsoft Excel or OpenOffice Calc. The library `numpy` provides several methods to read CSV files. The most common ones are `genfromtxt` and `loadtxt`. Note that other libraries that derive from `numpy` such as `pandas` provide more efficient methods to read CSV files.\n",
        "\n",
        "For the exercice, we will read the dataset `data/iris.csv` which is a famous multivariate dataset introduced by the British statistician and biologist Ronald Fisher in his 1936 paper *The use of multiple measurements in taxonomic problems*. The dataset contains 150 samples of iris flowers. Each sample contains the following features: sepal length, sepal width, petal length, petal width and the class of the flower. More information about the dataset is available [here](https://en.wikipedia.org/wiki/Iris_flower_data_set).\n",
        "\n",
        "1. Load the file `data/iris.csv` without including the last column (the class of the flower) and store it in a variable called `iris_data`. Display the shape of the array.\n",
        "2. Explore each comlumns (type, min, max, mean, standard deviation, Nan values...)"
      ]
    },
    {
      "cell_type": "code",
      "execution_count": 8,
      "metadata": {
        "id": "ydnRpQDp0EC_"
      },
      "outputs": [
        {
          "name": "stdout",
          "output_type": "stream",
          "text": [
            "[4.3 2.  1.  0.1]\n",
            "[7.9 4.4 6.9 2.5]\n",
            "[5.84333333 3.05733333 3.758      1.19933333]\n",
            "[0.82530129 0.43441097 1.75940407 0.75969263]\n",
            "[False False False False]\n"
          ]
        }
      ],
      "source": [
        "iris_data = np.genfromtxt(\"data/iris.csv\", delimiter=\",\", usecols=(0, 1, 2, 3), skip_header=1)\n",
        "\n",
        "print(iris_data.min(axis=0))\n",
        "print(iris_data.max(axis=0))\n",
        "print(iris_data.mean(axis=0))\n",
        "print(iris_data.std(axis=0))\n",
        "print(np.isnan(iris_data).any(axis=0))"
      ]
    },
    {
      "attachments": {},
      "cell_type": "markdown",
      "metadata": {
        "id": "5vyNhRRtFzIo"
      },
      "source": [
        "### 2.5 Matrices\n",
        "\n",
        "1. Create a 4 x 4 identity matrix\n",
        "2. Create a 10 x 10 all-of-ones matrix\n",
        "3. Create a 6 x 5 zeros matrix  \n",
        "4. Create a 6 x 6 random matrix of float\n",
        "5. Create a 6 x 1 random of integer vector.\n",
        "6. Find the transpose of matrix (4.)\n",
        "7. Multiply the matrix (4.) by the vector (5.)\n"
      ]
    },
    {
      "cell_type": "code",
      "execution_count": 9,
      "metadata": {
        "id": "ynCq9wMQGyLd"
      },
      "outputs": [
        {
          "name": "stdout",
          "output_type": "stream",
          "text": [
            "(6, 6)\n"
          ]
        }
      ],
      "source": [
        "identify = np.eye(5)\n",
        "all_of_ones = np.ones((10, 10))\n",
        "all_of_zeros = np.zeros((6, 5))\n",
        "random_floats = np.random.random((6, 6))\n",
        "random_ints = np.random.randint(0, 6, (6, 1))\n",
        "random_floats_transposed = random_floats.T\n",
        "print((random_floats * random_ints).shape)"
      ]
    },
    {
      "attachments": {},
      "cell_type": "markdown",
      "metadata": {
        "id": "mgawXSyguDov"
      },
      "source": [
        "## 3. `matplotlib` in a nutshell\n",
        "\n",
        "In Python, many plotting libraries are available. The most common one is `matplotlib`. It is a library for creating static, animated, and interactive visualizations in Python. It can be used in Python scripts, the Python and IPython shell, web application servers, and various graphical user interface toolkits. The documentation of the library is available [here](https://matplotlib.org/). We will see here the basics of `matplotlib` and how to plot data.\n",
        "\n",
        "Note that the integration of `matplotlib` within Jupyter notebooks is done by the library `ipython`. The documentation of the library is available [here](https://ipython.readthedocs.io/en/stable/). By default, the matplotlib library displays as `inline` plots, which means, the plots are displayed in the notebook as static images. However, it is possible to display interactive plots in the notebook by using the magic command `%matplotlib widget`. The documentation of the magic command is available [here](https://ipython.readthedocs.io/en/stable/interactive/magics.html#magic-matplotlib). Using widgets implies to install the library `ipympl` which is a matplotlib backend to render figures in the notebook. "
      ]
    },
    {
      "cell_type": "code",
      "execution_count": 10,
      "metadata": {},
      "outputs": [],
      "source": [
        "import matplotlib.pyplot as plt"
      ]
    },
    {
      "attachments": {},
      "cell_type": "markdown",
      "metadata": {
        "id": "GIsNHvOEIMJE"
      },
      "source": [
        "### 3.1 Warmup\n",
        "\n",
        "1. Create a vector $\\theta \\in [0, 2\\pi]$ with 200 points\n",
        "2. Display the function $\\sin(\\theta)$ and $\\cos(\\theta)$ on the same axes.\n",
        "3. Add the title \"Famous trigonometric functions\" then add the axes labels and a legend.\n",
        "4. Add a grid.\n",
        "5. Change the color of the function so the sine function appears in red with a dotted linestyle and the cosine function is plotted in green with a dash-dot linestyle."
      ]
    },
    {
      "cell_type": "code",
      "execution_count": 11,
      "metadata": {
        "id": "vDcokoO3H9ol"
      },
      "outputs": [
        {
          "data": {
            "image/png": "[encoded data removed]",
            "text/plain": [
              "<Figure size 640x480 with 1 Axes>"
            ]
          },
          "metadata": {},
          "output_type": "display_data"
        }
      ],
      "source": [
        "theta = np.linspace(0, 2 * np.pi, 200)\n",
        "sine = np.sin(theta)\n",
        "cosine = np.cos(theta)\n",
        "\n",
        "fig, ax = plt.subplots()\n",
        "ax.plot(theta, sine, label=r\"$\\sin(\\theta)$\", color=\"red\", linestyle=\":\")\n",
        "ax.plot(theta, cosine, label=r\"$\\cos(\\theta)$\", color=\"green\", linestyle=\"-.\")\n",
        "ax.set_xlabel(r\"$\\theta$\")\n",
        "ax.set_ylabel(r\"$f(\\theta)$\")\n",
        "ax.legend()\n",
        "plt.show()"
      ]
    },
    {
      "attachments": {},
      "cell_type": "markdown",
      "metadata": {
        "id": "O2nzVE-HPAg4"
      },
      "source": [
        "### 3.2 Data and fit\n",
        "\n",
        "1. Create a vector $x \\in [0, 50]$ with 100 points.\n",
        "2. Create a random vector $y$ which is a linear to $x$.\n",
        "3. Make a scatter plot of $y=f(x)$.\n",
        "4. Plot the fit of the function in red (`np.polyfit` and `np.poly1d`)."
      ]
    },
    {
      "cell_type": "code",
      "execution_count": 12,
      "metadata": {
        "id": "_10ba2vsJSBG"
      },
      "outputs": [
        {
          "data": {
            "image/png": "[encoded data removed]",
            "text/plain": [
              "<Figure size 640x480 with 1 Axes>"
            ]
          },
          "metadata": {},
          "output_type": "display_data"
        }
      ],
      "source": [
        "x = np.random.rand(100) * 50\n",
        "y = np.random.randn(100) * 5 + 2 * x + 2\n",
        "\n",
        "fitter = np.polyfit(x, y, deg=1)\n",
        "fitted = np.polyval(fitter, x)\n",
        "\n",
        "fig, ax = plt.subplots()\n",
        "ax.scatter(x, y, label=\"Data points\")\n",
        "ax.plot(x, fitted, color=\"red\", label=\"Best fit of degree 1\")\n",
        "ax.legend()\n",
        "ax.set_xlabel(\"x\")\n",
        "ax.set_ylabel(\"y\")\n",
        "plt.show()"
      ]
    }
  ],
  "metadata": {
    "colab": {
      "collapsed_sections": [
        "8KYU1qRgupg8",
        "GIsNHvOEIMJE"
      ],
      "name": "EDS_2020_2021_Python_Positionning_v1.1_no_sol.ipynb",
      "provenance": [],
      "toc_visible": true
    },
    "kernelspec": {
      "display_name": "Python 3",
      "name": "python3"
    },
    "language_info": {
      "codemirror_mode": {
        "name": "ipython",
        "version": 3
      },
      "file_extension": ".py",
      "mimetype": "text/x-python",
      "name": "python",
      "nbconvert_exporter": "python",
      "pygments_lexer": "ipython3",
      "version": "3.11.7"
    }
  },
  "nbformat": 4,
  "nbformat_minor": 0
}
